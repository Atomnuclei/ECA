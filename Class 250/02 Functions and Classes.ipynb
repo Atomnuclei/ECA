{
 "cells": [
  {
   "cell_type": "markdown",
   "metadata": {
    "collapsed": true
   },
   "source": [
    "### In this notebook, we will take our ugly spaghetti code and add abstraction through the use of functions and classes. "
   ]
  },
  {
   "cell_type": "code",
   "execution_count": 5,
   "metadata": {
    "ExecuteTime": {
     "end_time": "2017-08-01T17:12:02.419290",
     "start_time": "2017-08-01T17:12:01.886340"
    }
   },
   "outputs": [],
   "source": [
    "import random\n",
    "from matplotlib import pyplot as plt\n",
    "%matplotlib inline"
   ]
  },
  {
   "cell_type": "markdown",
   "metadata": {},
   "source": [
    "The code below sets the jupyter notebook \"pager\" to print inline, so that it pager outputs can be viewed on GitHub without running the notebook"
   ]
  },
  {
   "cell_type": "code",
   "execution_count": 7,
   "metadata": {},
   "outputs": [],
   "source": [
    "def page_printer(data, start=0, screen_lines=0, pager_cmd=None):\n",
    "    if isinstance(data, dict): #what's isinstance?\n",
    "        data = data['text/plain']\n",
    "    print(data)\n",
    "\n",
    "import IPython.core.page\n",
    "IPython.core.page.page = page_printer"
   ]
  },
  {
   "cell_type": "markdown",
   "metadata": {},
   "source": [
    "Our ECA spaghetti code"
   ]
  },
  {
   "cell_type": "code",
   "execution_count": 8,
   "metadata": {
    "ExecuteTime": {
     "end_time": "2017-08-01T17:12:40.766342",
     "start_time": "2017-08-01T17:12:40.032692"
    }
   },
   "outputs": [
    {
     "data": {
      "image/png": "[encoded data removed]",
      "text/plain": [
       "<Figure size 864x864 with 1 Axes>"
      ]
     },
     "metadata": {
      "needs_background": "light"
     },
     "output_type": "display_data"
    }
   ],
   "source": [
    "rule_number = 110\n",
    "length = 100\n",
    "time = 100 \n",
    "\n",
    "# make the initial condition\n",
    "initial_condition = []\n",
    "for i in range(length):\n",
    "    initial_condition.append(random.randint(0,1))\n",
    "\n",
    "# create list of neighborhood tuples in lex. order\n",
    "neighborhoods = [(0,0,0), (0,0,1), (0,1,0), (0,1,1), (1,0,0), (1,0,1), (1,1,0), (1,1,1)]\n",
    "\n",
    "# convert the rule number to binary and padd with 0s as needed\n",
    "in_binary = bin(rule_number)[2:][::-1]\n",
    "binary_length = len(in_binary)\n",
    "if binary_length != 8:\n",
    "    padding = 8 - binary_length\n",
    "    in_binary = in_binary + '0'*padding\n",
    "\n",
    "# create the lookup table dictionary\n",
    "lookup_table = {}\n",
    "for i in range(8):\n",
    "    key = neighborhoods[i]\n",
    "    val = in_binary[i]\n",
    "    lookup_table.update({key:val})\n",
    "    \n",
    "# initialize spacetime field and current configuration\n",
    "spacetime_field = [initial_condition]\n",
    "current_configuration = initial_condition.copy()\n",
    "\n",
    "# apply the lookup table to evolve the CA for the given number of time steps\n",
    "for t in range(time):\n",
    "    new_configuration = []\n",
    "    for i in range(len(current_configuration)):\n",
    "        \n",
    "        neighborhood = (current_configuration[(i-1)], \n",
    "                        current_configuration[i], \n",
    "                        current_configuration[(i+1)%length])\n",
    "        \n",
    "        new_configuration.append(int(lookup_table[neighborhood]))\n",
    "        \n",
    "    current_configuration = new_configuration\n",
    "    spacetime_field.append(new_configuration)\n",
    "    \n",
    "# plot the spacetime field diagram\n",
    "plt.figure(figsize=(12,12))\n",
    "plt.imshow(spacetime_field, cmap=plt.cm.Greys, interpolation='nearest')\n",
    "plt.show()"
   ]
  },
  {
   "cell_type": "code",
   "execution_count": null,
   "metadata": {},
   "outputs": [],
   "source": []
  },
  {
   "cell_type": "markdown",
   "metadata": {},
   "source": [
    "As a first demonstration, here is a basic function that produces a random bit string of a given length. "
   ]
  },
  {
   "cell_type": "code",
   "execution_count": 9,
   "metadata": {},
   "outputs": [],
   "source": [
    "def random_string_basic(length):\n",
    "    return [random.randint(0,1) for _ in range(length)]"
   ]
  },
  {
   "cell_type": "code",
   "execution_count": 11,
   "metadata": {},
   "outputs": [
    {
     "name": "stdout",
     "output_type": "stream",
     "text": [
      "[0, 0, 0, 0, 1, 1, 1, 0, 0, 0, 0, 1, 1, 0, 1, 0, 0, 1, 1, 0]\n"
     ]
    }
   ],
   "source": [
    "print(random_string_basic(20))"
   ]
  },
  {
   "cell_type": "markdown",
   "metadata": {},
   "source": [
    "This function gets the job done. However, it is not good coding practice to make such bare-bones functions. It is always a good idea to add doc strings to your function. This will make it much easier for others to know what your function is supposed to do; including what valid inputs are and what kind of outputs are expected. To take this even further, you can use 'raise' statements to raise an error if your function is given invalid inputs. For instance, if you were to pass a non-integer or negative integer value into our basic random string function, it will return an error (as shown below). For such a simple function it should be clear how these inputs break the function, but in more complicated situations it will not always be so clear. Therefore it is advised to use such assert statements to capture expected disruptions in functionality. "
   ]
  },
  {
   "cell_type": "code",
   "execution_count": 6,
   "metadata": {},
   "outputs": [],
   "source": [
    "def random_string(length):\n",
    "    '''\n",
    "    Returns a random bit string of the given length. \n",
    "    \n",
    "    Parameters\n",
    "    ----------\n",
    "    length: int\n",
    "        Posivite integer that specifies the desired length of the bit string.\n",
    "        \n",
    "    Returns\n",
    "    -------\n",
    "    out: list\n",
    "        The random bit string given as a list, with int elements.\n",
    "    '''\n",
    "    if not isinstance(length, int) or length < 0:\n",
    "        raise ValueError(\"input length must be a positive ingeter\")\n",
    "    return [random.randint(0,1) for _ in range(length)]"
   ]
  },
  {
   "cell_type": "code",
   "execution_count": 7,
   "metadata": {},
   "outputs": [
    {
     "name": "stdout",
     "output_type": "stream",
     "text": [
      "[1, 1, 0, 1, 0, 1, 1, 0, 0, 1, 0, 0, 1, 0, 1, 0, 0, 1, 0, 1]\n"
     ]
    }
   ],
   "source": [
    "print(random_string(20))"
   ]
  },
  {
   "cell_type": "markdown",
   "metadata": {},
   "source": [
    "docstrings can be accessed using the '?' operator"
   ]
  },
  {
   "cell_type": "code",
   "execution_count": 8,
   "metadata": {},
   "outputs": [
    {
     "name": "stdout",
     "output_type": "stream",
     "text": [
      "\u001b[1;31mSignature:\u001b[0m \u001b[0mrandom_string\u001b[0m\u001b[1;33m(\u001b[0m\u001b[0mlength\u001b[0m\u001b[1;33m)\u001b[0m\u001b[1;33m\u001b[0m\u001b[1;33m\u001b[0m\u001b[0m\n",
      "\u001b[1;31mDocstring:\u001b[0m\n",
      "Returns a random bit string of the given length. \n",
      "\n",
      "Parameters\n",
      "----------\n",
      "length: int\n",
      "    Posivite integer that specifies the desired length of the bit string.\n",
      "    \n",
      "Returns\n",
      "-------\n",
      "out: list\n",
      "    The random bit string given as a list, with int elements.\n",
      "\u001b[1;31mFile:\u001b[0m      c:\\users\\adam.000\\dropbox\\code\\scientific-python-tutorials\\<ipython-input-6-d462fcde14a9>\n",
      "\u001b[1;31mType:\u001b[0m      function\n",
      "\n"
     ]
    }
   ],
   "source": [
    "random_string?"
   ]
  },
  {
   "cell_type": "code",
   "execution_count": 9,
   "metadata": {
    "scrolled": true
   },
   "outputs": [
    {
     "ename": "TypeError",
     "evalue": "'float' object cannot be interpreted as an integer",
     "output_type": "error",
     "traceback": [
      "\u001b[1;31m---------------------------------------------------------------------------\u001b[0m",
      "\u001b[1;31mTypeError\u001b[0m                                 Traceback (most recent call last)",
      "\u001b[1;32m<ipython-input-9-fc6eaf3ff4d8>\u001b[0m in \u001b[0;36m<module>\u001b[1;34m\u001b[0m\n\u001b[1;32m----> 1\u001b[1;33m \u001b[0mprint\u001b[0m\u001b[1;33m(\u001b[0m\u001b[0mrandom_string_basic\u001b[0m\u001b[1;33m(\u001b[0m\u001b[1;36m1.2\u001b[0m\u001b[1;33m)\u001b[0m\u001b[1;33m)\u001b[0m\u001b[1;33m\u001b[0m\u001b[1;33m\u001b[0m\u001b[0m\n\u001b[0m",
      "\u001b[1;32m<ipython-input-4-32331b355036>\u001b[0m in \u001b[0;36mrandom_string_basic\u001b[1;34m(length)\u001b[0m\n\u001b[0;32m      1\u001b[0m \u001b[1;32mdef\u001b[0m \u001b[0mrandom_string_basic\u001b[0m\u001b[1;33m(\u001b[0m\u001b[0mlength\u001b[0m\u001b[1;33m)\u001b[0m\u001b[1;33m:\u001b[0m\u001b[1;33m\u001b[0m\u001b[1;33m\u001b[0m\u001b[0m\n\u001b[1;32m----> 2\u001b[1;33m     \u001b[1;32mreturn\u001b[0m \u001b[1;33m[\u001b[0m\u001b[0mrandom\u001b[0m\u001b[1;33m.\u001b[0m\u001b[0mrandint\u001b[0m\u001b[1;33m(\u001b[0m\u001b[1;36m0\u001b[0m\u001b[1;33m,\u001b[0m\u001b[1;36m1\u001b[0m\u001b[1;33m)\u001b[0m \u001b[1;32mfor\u001b[0m \u001b[0m_\u001b[0m \u001b[1;32min\u001b[0m \u001b[0mrange\u001b[0m\u001b[1;33m(\u001b[0m\u001b[0mlength\u001b[0m\u001b[1;33m)\u001b[0m\u001b[1;33m]\u001b[0m\u001b[1;33m\u001b[0m\u001b[1;33m\u001b[0m\u001b[0m\n\u001b[0m",
      "\u001b[1;31mTypeError\u001b[0m: 'float' object cannot be interpreted as an integer"
     ]
    }
   ],
   "source": [
    "print(random_string_basic(1.2))"
   ]
  },
  {
   "cell_type": "code",
   "execution_count": 10,
   "metadata": {},
   "outputs": [
    {
     "ename": "ValueError",
     "evalue": "input length must be a positive ingeter",
     "output_type": "error",
     "traceback": [
      "\u001b[1;31m---------------------------------------------------------------------------\u001b[0m",
      "\u001b[1;31mValueError\u001b[0m                                Traceback (most recent call last)",
      "\u001b[1;32m<ipython-input-10-648a6f9307e3>\u001b[0m in \u001b[0;36m<module>\u001b[1;34m\u001b[0m\n\u001b[1;32m----> 1\u001b[1;33m \u001b[0mprint\u001b[0m\u001b[1;33m(\u001b[0m\u001b[0mrandom_string\u001b[0m\u001b[1;33m(\u001b[0m\u001b[1;36m1.2\u001b[0m\u001b[1;33m)\u001b[0m\u001b[1;33m)\u001b[0m\u001b[1;33m\u001b[0m\u001b[1;33m\u001b[0m\u001b[0m\n\u001b[0m",
      "\u001b[1;32m<ipython-input-6-d462fcde14a9>\u001b[0m in \u001b[0;36mrandom_string\u001b[1;34m(length)\u001b[0m\n\u001b[0;32m     14\u001b[0m     '''\n\u001b[0;32m     15\u001b[0m     \u001b[1;32mif\u001b[0m \u001b[1;32mnot\u001b[0m \u001b[0misinstance\u001b[0m\u001b[1;33m(\u001b[0m\u001b[0mlength\u001b[0m\u001b[1;33m,\u001b[0m \u001b[0mint\u001b[0m\u001b[1;33m)\u001b[0m \u001b[1;32mor\u001b[0m \u001b[0mlength\u001b[0m \u001b[1;33m<\u001b[0m \u001b[1;36m0\u001b[0m\u001b[1;33m:\u001b[0m\u001b[1;33m\u001b[0m\u001b[1;33m\u001b[0m\u001b[0m\n\u001b[1;32m---> 16\u001b[1;33m         \u001b[1;32mraise\u001b[0m \u001b[0mValueError\u001b[0m\u001b[1;33m(\u001b[0m\u001b[1;34m\"input length must be a positive ingeter\"\u001b[0m\u001b[1;33m)\u001b[0m\u001b[1;33m\u001b[0m\u001b[1;33m\u001b[0m\u001b[0m\n\u001b[0m\u001b[0;32m     17\u001b[0m     \u001b[1;32mreturn\u001b[0m \u001b[1;33m[\u001b[0m\u001b[0mrandom\u001b[0m\u001b[1;33m.\u001b[0m\u001b[0mrandint\u001b[0m\u001b[1;33m(\u001b[0m\u001b[1;36m0\u001b[0m\u001b[1;33m,\u001b[0m\u001b[1;36m1\u001b[0m\u001b[1;33m)\u001b[0m \u001b[1;32mfor\u001b[0m \u001b[0m_\u001b[0m \u001b[1;32min\u001b[0m \u001b[0mrange\u001b[0m\u001b[1;33m(\u001b[0m\u001b[0mlength\u001b[0m\u001b[1;33m)\u001b[0m\u001b[1;33m]\u001b[0m\u001b[1;33m\u001b[0m\u001b[1;33m\u001b[0m\u001b[0m\n",
      "\u001b[1;31mValueError\u001b[0m: input length must be a positive ingeter"
     ]
    }
   ],
   "source": [
    "print(random_string(1.2))"
   ]
  },
  {
   "cell_type": "markdown",
   "metadata": {},
   "source": [
    "In the first example, a general TypeError is given that is not directly related to random string function that the user is interfacing with. This can make debugging much more difficult in more complicated situations. The same error is flagged in way that clearly relates to the inputs given by the user when raising our own ValueError, making it much easier to debug. "
   ]
  },
  {
   "cell_type": "code",
   "execution_count": null,
   "metadata": {},
   "outputs": [],
   "source": []
  },
  {
   "cell_type": "markdown",
   "metadata": {},
   "source": [
    "It does not make much sense to create the neighborhoods function below. It should just be a global variable. One reason you might do something like this though is if you're prototyping code and this acts as a placeholder for a future function. In this case, we eventually want a general 1D CA simulator, in which case a neighborhoods function would be nontrivial."
   ]
  },
  {
   "cell_type": "code",
   "execution_count": 11,
   "metadata": {},
   "outputs": [],
   "source": [
    "def neighborhoods():\n",
    "    '''\n",
    "    Returns a list of neighborhood tuples in lexicographical order.\n",
    "    '''\n",
    "    return [(0,0,0), (0,0,1), (0,1,0), (0,1,1), (1,0,0), (1,0,1), (1,1,0), (1,1,1)]"
   ]
  },
  {
   "cell_type": "code",
   "execution_count": 12,
   "metadata": {},
   "outputs": [
    {
     "name": "stdout",
     "output_type": "stream",
     "text": [
      "[(0, 0, 0), (0, 0, 1), (0, 1, 0), (0, 1, 1), (1, 0, 0), (1, 0, 1), (1, 1, 0), (1, 1, 1)]\n"
     ]
    }
   ],
   "source": [
    "print(neighborhoods())"
   ]
  },
  {
   "cell_type": "markdown",
   "metadata": {},
   "source": [
    "We will not actually use this function, and just define a local neighborhoods variable inside the lookup table function below"
   ]
  },
  {
   "cell_type": "code",
   "execution_count": null,
   "metadata": {},
   "outputs": [],
   "source": []
  },
  {
   "cell_type": "markdown",
   "metadata": {},
   "source": [
    "The function below is one that we certainly will use. It creates the lookup table dictionary for a given rule number."
   ]
  },
  {
   "cell_type": "code",
   "execution_count": 20,
   "metadata": {},
   "outputs": [],
   "source": [
    "def lookup_table(rule_number):\n",
    "    '''\n",
    "    Returns a dictionary which maps ECA neighborhoods to output values. \n",
    "    Uses Wolfram rule number convention.\n",
    "    \n",
    "    Parameters\n",
    "    ----------\n",
    "    rule_number: int\n",
    "        Integer value between 0 and 255, inclusive. Specifies the ECA lookup table\n",
    "        according to the Wolfram numbering scheme.\n",
    "        \n",
    "    Returns\n",
    "    -------\n",
    "    lookup_table: dict\n",
    "        Lookup table dictionary that maps neighborhood tuples to their output according to the \n",
    "        ECA local evolution rule (i.e. the lookup table), as specified by the rule number. \n",
    "    '''\n",
    "    if not isinstance(rule_number, int) or rule_number < 0 or rule_number > 255:\n",
    "        raise ValueError(\"rule_number must be an int between 0 and 255, inclusive\")\n",
    "    neighborhoods = [(0,0,0), (0,0,1), (0,1,0), (0,1,1), (1,0,0), (1,0,1), (1,1,0), (1,1,1)]\n",
    "    in_binary = '{:{fill}{align}{width}b}'.format(rule_number, \n",
    "                                                  fill='0', \n",
    "                                                  align='>', \n",
    "                                                  width='8')\n",
    "    \n",
    "    return dict(zip(neighborhoods, map(int,reversed(in_binary)))) # use map so that outputs are ints, not strings"
   ]
  },
  {
   "cell_type": "markdown",
   "metadata": {},
   "source": [
    "Notice that we have used 'map' convert all the values of in_binary from str to int. \n",
    "\n",
    "A little demo of how map works; it is very similar to list comprehensions: (map is an iterator in Python 3, so I've used list() to conver it to a list for visualization purposes)"
   ]
  },
  {
   "cell_type": "code",
   "execution_count": 14,
   "metadata": {},
   "outputs": [
    {
     "name": "stdout",
     "output_type": "stream",
     "text": [
      "[0, 1, 0, 1, 1, 0, 1, 0]\n",
      "[0, 1, 0, 1, 1, 0, 1, 0]\n"
     ]
    }
   ],
   "source": [
    "print(list(map(int,'{:{fill}{align}{width}b}'.format(90, \n",
    "                                                  fill='0', \n",
    "                                                  align='>', \n",
    "                                                  width='8')\n",
    "              )\n",
    "          )\n",
    "     )\n",
    "     \n",
    "print([int(i) for i in '{:{fill}{align}{width}b}'.format(90, \n",
    "                                                  fill='0', \n",
    "                                                  align='>', \n",
    "                                                  width='8')]\n",
    "     )"
   ]
  },
  {
   "cell_type": "code",
   "execution_count": 15,
   "metadata": {},
   "outputs": [
    {
     "name": "stdout",
     "output_type": "stream",
     "text": [
      "(0, 0, 0) --> 0\n",
      "(0, 0, 1) --> 1\n",
      "(0, 1, 0) --> 0\n",
      "(0, 1, 1) --> 1\n",
      "(1, 0, 0) --> 1\n",
      "(1, 0, 1) --> 0\n",
      "(1, 1, 0) --> 1\n",
      "(1, 1, 1) --> 0\n"
     ]
    }
   ],
   "source": [
    "for key, val in lookup_table(90).items():\n",
    "    print(key, '-->', val)"
   ]
  },
  {
   "cell_type": "code",
   "execution_count": null,
   "metadata": {},
   "outputs": [],
   "source": []
  },
  {
   "cell_type": "markdown",
   "metadata": {},
   "source": [
    "### Testing our lookup table code"
   ]
  },
  {
   "cell_type": "markdown",
   "metadata": {},
   "source": [
    "When writing our spaghetti code, we never specifically tested whether our implementation of the lookup table was producing the expected behavior. Let's do that now, before moving on. Another benefit of using functions to abstract and generalize our code is that we can also test our code much more thoroughly and efficiently. \n",
    "\n",
    "First, we should test the edge cases. Rule '0' should produce all zero outputs and rule '255' should produce all ones. Because we added a raise statement to our function, it will not allow values outside this range, but we should still test that it does this as expected (I caught a mistake I made in my first attempt by testing the edge cases). Finally, let's test a few values inside the valid range. Rule '90' is the XOR of the two outer bits of the neighborhood: if the outer bits are the same the output is zero, if they are different the output is one. Rule '22' outputs a one if there is a single one in the neighborhood and outputs a zero otherwise. Let's now test these different cases"
   ]
  },
  {
   "cell_type": "markdown",
   "metadata": {},
   "source": [
    "Ideally you should use a testing framework like [nose](https://nose.readthedocs.io/en/latest/), especially if your code will be integrated into a larger project that others will depend on. This level of testing automation is beyond the scope of these tutorials. Here I'll show some basic level of testing to get started. "
   ]
  },
  {
   "cell_type": "code",
   "execution_count": null,
   "metadata": {},
   "outputs": [],
   "source": []
  },
  {
   "cell_type": "markdown",
   "metadata": {},
   "source": [
    "Here is a function that tests the lookup table for rule 0. This is similar to the kind of function you would use with the 'nose' framework, but you would not write the `return` statement in nose. \n",
    "\n",
    "If the lookup table gives the expected output, no AssertionErrors will be raised and the function will terminate with a message letting us know all outputs are correct. "
   ]
  },
  {
   "cell_type": "code",
   "execution_count": 16,
   "metadata": {},
   "outputs": [
    {
     "name": "stdout",
     "output_type": "stream",
     "text": [
      "[(0, 0, 0), (0, 0, 1), (0, 1, 0), (0, 1, 1), (1, 0, 0), (1, 0, 1), (1, 1, 0), (1, 1, 1)]\n"
     ]
    }
   ],
   "source": [
    "print(neighborhoods())"
   ]
  },
  {
   "cell_type": "code",
   "execution_count": 17,
   "metadata": {},
   "outputs": [],
   "source": [
    "def test_lookup_table0():\n",
    "    lt = lookup_table(0)\n",
    "    expected_outputs = [0,0,0,0,0,0,0,0] # outputs in lexicographical order\n",
    "    for neighborhood, expected_out in zip(neighborhoods(), expected_outputs):\n",
    "        assert lt[neighborhood] == expected_out,\\\n",
    "        \"neighborhood {} gives wrong output!\".format(neighborhood)\n",
    "    print(\"all outputs look good!\") # remove if using testing framework like nose"
   ]
  },
  {
   "cell_type": "code",
   "execution_count": 18,
   "metadata": {},
   "outputs": [
    {
     "name": "stdout",
     "output_type": "stream",
     "text": [
      "all outputs look good!\n"
     ]
    }
   ],
   "source": [
    "test_lookup_table0()"
   ]
  },
  {
   "cell_type": "markdown",
   "metadata": {},
   "source": [
    "Just as a demonstration of how this test function would behave if the lookup table is not working as expected, let's copy the same test function, but change one of the bits in the expected outputs (i.e. we will test our lookup_table function for rule 0 against some other rule that is not rule 0. "
   ]
  },
  {
   "cell_type": "code",
   "execution_count": 19,
   "metadata": {},
   "outputs": [],
   "source": [
    "def test_lookup_table_fail():\n",
    "    lt = lookup_table(0)\n",
    "    expected_outputs = [0,0,0,0,0,0,0,1] # outputs in lexicographical order\n",
    "    for neighborhood, expected_out in zip(neighborhoods(), expected_outputs):\n",
    "        assert lt[neighborhood] == expected_out,\\\n",
    "        \"neighborhood {} gives wrong output!\".format(neighborhood)\n",
    "    print(\"all outputs look good!\") # remove if using testing framework like nose"
   ]
  },
  {
   "cell_type": "code",
   "execution_count": 20,
   "metadata": {},
   "outputs": [
    {
     "ename": "AssertionError",
     "evalue": "neighborhood (1, 1, 1) gives wrong output!",
     "output_type": "error",
     "traceback": [
      "\u001b[1;31m---------------------------------------------------------------------------\u001b[0m",
      "\u001b[1;31mAssertionError\u001b[0m                            Traceback (most recent call last)",
      "\u001b[1;32m<ipython-input-20-50523499771b>\u001b[0m in \u001b[0;36m<module>\u001b[1;34m\u001b[0m\n\u001b[1;32m----> 1\u001b[1;33m \u001b[0mtest_lookup_table_fail\u001b[0m\u001b[1;33m(\u001b[0m\u001b[1;33m)\u001b[0m\u001b[1;33m\u001b[0m\u001b[1;33m\u001b[0m\u001b[0m\n\u001b[0m",
      "\u001b[1;32m<ipython-input-19-0b9b047358e1>\u001b[0m in \u001b[0;36mtest_lookup_table_fail\u001b[1;34m()\u001b[0m\n\u001b[0;32m      4\u001b[0m     \u001b[1;32mfor\u001b[0m \u001b[0mneighborhood\u001b[0m\u001b[1;33m,\u001b[0m \u001b[0mexpected_out\u001b[0m \u001b[1;32min\u001b[0m \u001b[0mzip\u001b[0m\u001b[1;33m(\u001b[0m\u001b[0mneighborhoods\u001b[0m\u001b[1;33m(\u001b[0m\u001b[1;33m)\u001b[0m\u001b[1;33m,\u001b[0m \u001b[0mexpected_outputs\u001b[0m\u001b[1;33m)\u001b[0m\u001b[1;33m:\u001b[0m\u001b[1;33m\u001b[0m\u001b[1;33m\u001b[0m\u001b[0m\n\u001b[0;32m      5\u001b[0m         \u001b[1;32massert\u001b[0m \u001b[0mlt\u001b[0m\u001b[1;33m[\u001b[0m\u001b[0mneighborhood\u001b[0m\u001b[1;33m]\u001b[0m \u001b[1;33m==\u001b[0m \u001b[0mexpected_out\u001b[0m\u001b[1;33m,\u001b[0m\u001b[0;31m\\\u001b[0m\u001b[1;33m\u001b[0m\u001b[1;33m\u001b[0m\u001b[0m\n\u001b[1;32m----> 6\u001b[1;33m         \u001b[1;34m\"neighborhood {} gives wrong output!\"\u001b[0m\u001b[1;33m.\u001b[0m\u001b[0mformat\u001b[0m\u001b[1;33m(\u001b[0m\u001b[0mneighborhood\u001b[0m\u001b[1;33m)\u001b[0m\u001b[1;33m\u001b[0m\u001b[1;33m\u001b[0m\u001b[0m\n\u001b[0m\u001b[0;32m      7\u001b[0m     \u001b[0mprint\u001b[0m\u001b[1;33m(\u001b[0m\u001b[1;34m\"all outputs look good!\"\u001b[0m\u001b[1;33m)\u001b[0m \u001b[1;31m# remove if using testing framework like nose\u001b[0m\u001b[1;33m\u001b[0m\u001b[1;33m\u001b[0m\u001b[0m\n",
      "\u001b[1;31mAssertionError\u001b[0m: neighborhood (1, 1, 1) gives wrong output!"
     ]
    }
   ],
   "source": [
    "test_lookup_table_fail()"
   ]
  },
  {
   "cell_type": "markdown",
   "metadata": {},
   "source": [
    "Let's now repeat this and write similar test functions for the other cases we want to test. \n",
    "\n",
    "It is good to do thorough testing of your code, and as you can see it starts to get pretty cumbersome. This is why automated testing frameworks like nose are so helpful."
   ]
  },
  {
   "cell_type": "code",
   "execution_count": 21,
   "metadata": {},
   "outputs": [],
   "source": [
    "def test_lookup_table255():\n",
    "    lt = lookup_table(255)\n",
    "    expected_outputs = [1,1,1,1,1,1,1,1] # outputs in lexicographical order\n",
    "    for neighborhood, expected_out in zip(neighborhoods(), expected_outputs):\n",
    "        assert lt[neighborhood] == expected_out,\\\n",
    "        \"neighborhood {} gives wrong output!\".format(neighborhood)\n",
    "    print(\"all outputs look good!\") # remove if using testing framework like nose"
   ]
  },
  {
   "cell_type": "code",
   "execution_count": 22,
   "metadata": {},
   "outputs": [
    {
     "name": "stdout",
     "output_type": "stream",
     "text": [
      "all outputs look good!\n"
     ]
    }
   ],
   "source": [
    "test_lookup_table255()"
   ]
  },
  {
   "cell_type": "code",
   "execution_count": 23,
   "metadata": {},
   "outputs": [],
   "source": [
    "def test_lookup_table90():\n",
    "    lt = lookup_table(90)\n",
    "    expected_outputs = [0,1,0,1,1,0,1,0] # outputs in lexicographical order\n",
    "    for neighborhood, expected_out in zip(neighborhoods(), expected_outputs):\n",
    "        assert lt[neighborhood] == expected_out,\\\n",
    "        \"neighborhood {} gives wrong output!\".format(neighborhood)\n",
    "    print(\"all outputs look good!\") # remove if using testing framework like nose"
   ]
  },
  {
   "cell_type": "code",
   "execution_count": 24,
   "metadata": {},
   "outputs": [
    {
     "name": "stdout",
     "output_type": "stream",
     "text": [
      "all outputs look good!\n"
     ]
    }
   ],
   "source": [
    "test_lookup_table90()"
   ]
  },
  {
   "cell_type": "code",
   "execution_count": 25,
   "metadata": {},
   "outputs": [],
   "source": [
    "def test_lookup_table22():\n",
    "    lt = lookup_table(22)\n",
    "    expected_outputs = [0,1,1,0,1,0,0,0] # outputs in lexicographical order\n",
    "    for neighborhood, expected_out in zip(neighborhoods(), expected_outputs):\n",
    "        assert lt[neighborhood] == expected_out,\\\n",
    "        \"neighborhood {} gives wrong output!\".format(neighborhood)\n",
    "    print(\"all outputs look good!\") # remove if using testing framework like nose"
   ]
  },
  {
   "cell_type": "code",
   "execution_count": 26,
   "metadata": {},
   "outputs": [
    {
     "name": "stdout",
     "output_type": "stream",
     "text": [
      "all outputs look good!\n"
     ]
    }
   ],
   "source": [
    "test_lookup_table22()"
   ]
  },
  {
   "cell_type": "markdown",
   "metadata": {},
   "source": [
    "Finally, before moving on let's just try running our lookup table code for values outside the expected range and make sure it raises the ValueError we put in. "
   ]
  },
  {
   "cell_type": "code",
   "execution_count": 27,
   "metadata": {},
   "outputs": [
    {
     "ename": "ValueError",
     "evalue": "rule_number must be an int between 0 and 255, inclusive",
     "output_type": "error",
     "traceback": [
      "\u001b[1;31m---------------------------------------------------------------------------\u001b[0m",
      "\u001b[1;31mValueError\u001b[0m                                Traceback (most recent call last)",
      "\u001b[1;32m<ipython-input-27-a5099726caf4>\u001b[0m in \u001b[0;36m<module>\u001b[1;34m\u001b[0m\n\u001b[1;32m----> 1\u001b[1;33m \u001b[0mprint\u001b[0m\u001b[1;33m(\u001b[0m\u001b[0mlookup_table\u001b[0m\u001b[1;33m(\u001b[0m\u001b[1;33m-\u001b[0m\u001b[1;36m1\u001b[0m\u001b[1;33m)\u001b[0m\u001b[1;33m)\u001b[0m\u001b[1;33m\u001b[0m\u001b[1;33m\u001b[0m\u001b[0m\n\u001b[0m",
      "\u001b[1;32m<ipython-input-13-750ec369dcef>\u001b[0m in \u001b[0;36mlookup_table\u001b[1;34m(rule_number)\u001b[0m\n\u001b[0;32m     17\u001b[0m     '''\n\u001b[0;32m     18\u001b[0m     \u001b[1;32mif\u001b[0m \u001b[1;32mnot\u001b[0m \u001b[0misinstance\u001b[0m\u001b[1;33m(\u001b[0m\u001b[0mrule_number\u001b[0m\u001b[1;33m,\u001b[0m \u001b[0mint\u001b[0m\u001b[1;33m)\u001b[0m \u001b[1;32mor\u001b[0m \u001b[0mrule_number\u001b[0m \u001b[1;33m<\u001b[0m \u001b[1;36m0\u001b[0m \u001b[1;32mor\u001b[0m \u001b[0mrule_number\u001b[0m \u001b[1;33m>\u001b[0m \u001b[1;36m255\u001b[0m\u001b[1;33m:\u001b[0m\u001b[1;33m\u001b[0m\u001b[1;33m\u001b[0m\u001b[0m\n\u001b[1;32m---> 19\u001b[1;33m         \u001b[1;32mraise\u001b[0m \u001b[0mValueError\u001b[0m\u001b[1;33m(\u001b[0m\u001b[1;34m\"rule_number must be an int between 0 and 255, inclusive\"\u001b[0m\u001b[1;33m)\u001b[0m\u001b[1;33m\u001b[0m\u001b[1;33m\u001b[0m\u001b[0m\n\u001b[0m\u001b[0;32m     20\u001b[0m     \u001b[0mneighborhoods\u001b[0m \u001b[1;33m=\u001b[0m \u001b[1;33m[\u001b[0m\u001b[1;33m(\u001b[0m\u001b[1;36m0\u001b[0m\u001b[1;33m,\u001b[0m\u001b[1;36m0\u001b[0m\u001b[1;33m,\u001b[0m\u001b[1;36m0\u001b[0m\u001b[1;33m)\u001b[0m\u001b[1;33m,\u001b[0m \u001b[1;33m(\u001b[0m\u001b[1;36m0\u001b[0m\u001b[1;33m,\u001b[0m\u001b[1;36m0\u001b[0m\u001b[1;33m,\u001b[0m\u001b[1;36m1\u001b[0m\u001b[1;33m)\u001b[0m\u001b[1;33m,\u001b[0m \u001b[1;33m(\u001b[0m\u001b[1;36m0\u001b[0m\u001b[1;33m,\u001b[0m\u001b[1;36m1\u001b[0m\u001b[1;33m,\u001b[0m\u001b[1;36m0\u001b[0m\u001b[1;33m)\u001b[0m\u001b[1;33m,\u001b[0m \u001b[1;33m(\u001b[0m\u001b[1;36m0\u001b[0m\u001b[1;33m,\u001b[0m\u001b[1;36m1\u001b[0m\u001b[1;33m,\u001b[0m\u001b[1;36m1\u001b[0m\u001b[1;33m)\u001b[0m\u001b[1;33m,\u001b[0m \u001b[1;33m(\u001b[0m\u001b[1;36m1\u001b[0m\u001b[1;33m,\u001b[0m\u001b[1;36m0\u001b[0m\u001b[1;33m,\u001b[0m\u001b[1;36m0\u001b[0m\u001b[1;33m)\u001b[0m\u001b[1;33m,\u001b[0m \u001b[1;33m(\u001b[0m\u001b[1;36m1\u001b[0m\u001b[1;33m,\u001b[0m\u001b[1;36m0\u001b[0m\u001b[1;33m,\u001b[0m\u001b[1;36m1\u001b[0m\u001b[1;33m)\u001b[0m\u001b[1;33m,\u001b[0m \u001b[1;33m(\u001b[0m\u001b[1;36m1\u001b[0m\u001b[1;33m,\u001b[0m\u001b[1;36m1\u001b[0m\u001b[1;33m,\u001b[0m\u001b[1;36m0\u001b[0m\u001b[1;33m)\u001b[0m\u001b[1;33m,\u001b[0m \u001b[1;33m(\u001b[0m\u001b[1;36m1\u001b[0m\u001b[1;33m,\u001b[0m\u001b[1;36m1\u001b[0m\u001b[1;33m,\u001b[0m\u001b[1;36m1\u001b[0m\u001b[1;33m)\u001b[0m\u001b[1;33m]\u001b[0m\u001b[1;33m\u001b[0m\u001b[1;33m\u001b[0m\u001b[0m\n\u001b[0;32m     21\u001b[0m     in_binary = '{:{fill}{align}{width}b}'.format(rule_number, \n",
      "\u001b[1;31mValueError\u001b[0m: rule_number must be an int between 0 and 255, inclusive"
     ]
    }
   ],
   "source": [
    "print(lookup_table(-1))"
   ]
  },
  {
   "cell_type": "code",
   "execution_count": 28,
   "metadata": {},
   "outputs": [
    {
     "ename": "ValueError",
     "evalue": "rule_number must be an int between 0 and 255, inclusive",
     "output_type": "error",
     "traceback": [
      "\u001b[1;31m---------------------------------------------------------------------------\u001b[0m",
      "\u001b[1;31mValueError\u001b[0m                                Traceback (most recent call last)",
      "\u001b[1;32m<ipython-input-28-d31d0839e85c>\u001b[0m in \u001b[0;36m<module>\u001b[1;34m\u001b[0m\n\u001b[1;32m----> 1\u001b[1;33m \u001b[0mprint\u001b[0m\u001b[1;33m(\u001b[0m\u001b[0mlookup_table\u001b[0m\u001b[1;33m(\u001b[0m\u001b[1;36m256\u001b[0m\u001b[1;33m)\u001b[0m\u001b[1;33m)\u001b[0m\u001b[1;33m\u001b[0m\u001b[1;33m\u001b[0m\u001b[0m\n\u001b[0m",
      "\u001b[1;32m<ipython-input-13-750ec369dcef>\u001b[0m in \u001b[0;36mlookup_table\u001b[1;34m(rule_number)\u001b[0m\n\u001b[0;32m     17\u001b[0m     '''\n\u001b[0;32m     18\u001b[0m     \u001b[1;32mif\u001b[0m \u001b[1;32mnot\u001b[0m \u001b[0misinstance\u001b[0m\u001b[1;33m(\u001b[0m\u001b[0mrule_number\u001b[0m\u001b[1;33m,\u001b[0m \u001b[0mint\u001b[0m\u001b[1;33m)\u001b[0m \u001b[1;32mor\u001b[0m \u001b[0mrule_number\u001b[0m \u001b[1;33m<\u001b[0m \u001b[1;36m0\u001b[0m \u001b[1;32mor\u001b[0m \u001b[0mrule_number\u001b[0m \u001b[1;33m>\u001b[0m \u001b[1;36m255\u001b[0m\u001b[1;33m:\u001b[0m\u001b[1;33m\u001b[0m\u001b[1;33m\u001b[0m\u001b[0m\n\u001b[1;32m---> 19\u001b[1;33m         \u001b[1;32mraise\u001b[0m \u001b[0mValueError\u001b[0m\u001b[1;33m(\u001b[0m\u001b[1;34m\"rule_number must be an int between 0 and 255, inclusive\"\u001b[0m\u001b[1;33m)\u001b[0m\u001b[1;33m\u001b[0m\u001b[1;33m\u001b[0m\u001b[0m\n\u001b[0m\u001b[0;32m     20\u001b[0m     \u001b[0mneighborhoods\u001b[0m \u001b[1;33m=\u001b[0m \u001b[1;33m[\u001b[0m\u001b[1;33m(\u001b[0m\u001b[1;36m0\u001b[0m\u001b[1;33m,\u001b[0m\u001b[1;36m0\u001b[0m\u001b[1;33m,\u001b[0m\u001b[1;36m0\u001b[0m\u001b[1;33m)\u001b[0m\u001b[1;33m,\u001b[0m \u001b[1;33m(\u001b[0m\u001b[1;36m0\u001b[0m\u001b[1;33m,\u001b[0m\u001b[1;36m0\u001b[0m\u001b[1;33m,\u001b[0m\u001b[1;36m1\u001b[0m\u001b[1;33m)\u001b[0m\u001b[1;33m,\u001b[0m \u001b[1;33m(\u001b[0m\u001b[1;36m0\u001b[0m\u001b[1;33m,\u001b[0m\u001b[1;36m1\u001b[0m\u001b[1;33m,\u001b[0m\u001b[1;36m0\u001b[0m\u001b[1;33m)\u001b[0m\u001b[1;33m,\u001b[0m \u001b[1;33m(\u001b[0m\u001b[1;36m0\u001b[0m\u001b[1;33m,\u001b[0m\u001b[1;36m1\u001b[0m\u001b[1;33m,\u001b[0m\u001b[1;36m1\u001b[0m\u001b[1;33m)\u001b[0m\u001b[1;33m,\u001b[0m \u001b[1;33m(\u001b[0m\u001b[1;36m1\u001b[0m\u001b[1;33m,\u001b[0m\u001b[1;36m0\u001b[0m\u001b[1;33m,\u001b[0m\u001b[1;36m0\u001b[0m\u001b[1;33m)\u001b[0m\u001b[1;33m,\u001b[0m \u001b[1;33m(\u001b[0m\u001b[1;36m1\u001b[0m\u001b[1;33m,\u001b[0m\u001b[1;36m0\u001b[0m\u001b[1;33m,\u001b[0m\u001b[1;36m1\u001b[0m\u001b[1;33m)\u001b[0m\u001b[1;33m,\u001b[0m \u001b[1;33m(\u001b[0m\u001b[1;36m1\u001b[0m\u001b[1;33m,\u001b[0m\u001b[1;36m1\u001b[0m\u001b[1;33m,\u001b[0m\u001b[1;36m0\u001b[0m\u001b[1;33m)\u001b[0m\u001b[1;33m,\u001b[0m \u001b[1;33m(\u001b[0m\u001b[1;36m1\u001b[0m\u001b[1;33m,\u001b[0m\u001b[1;36m1\u001b[0m\u001b[1;33m,\u001b[0m\u001b[1;36m1\u001b[0m\u001b[1;33m)\u001b[0m\u001b[1;33m]\u001b[0m\u001b[1;33m\u001b[0m\u001b[1;33m\u001b[0m\u001b[0m\n\u001b[0;32m     21\u001b[0m     in_binary = '{:{fill}{align}{width}b}'.format(rule_number, \n",
      "\u001b[1;31mValueError\u001b[0m: rule_number must be an int between 0 and 255, inclusive"
     ]
    }
   ],
   "source": [
    "print(lookup_table(256))"
   ]
  },
  {
   "cell_type": "code",
   "execution_count": null,
   "metadata": {},
   "outputs": [],
   "source": []
  },
  {
   "cell_type": "markdown",
   "metadata": {},
   "source": [
    "## Spacetime field function"
   ]
  },
  {
   "cell_type": "markdown",
   "metadata": {},
   "source": [
    "Let's now make a function that produces a spacetime field for a given ECA by using our lookup_table function\n",
    "\n",
    "Notice that we are doing something different at the beginning of the function to catch invalid inputs for `time_steps`. Rather than strictly enforcing that the input should be a Python `int`, we will allow valid representations of integers using a `try`-`except` clause. For example, the integer 1 can be given as an `int (1)`, a `float (1.0)`, or a `str ('1')`. Note though that if a non-integer float is given, it will be converted to the floor of that value. Whether you want this behavior for your function, or strictly enforce `int` time steps is the kind of design choice that you will have to make with more complex code like this. However, it is still preferable that this kind of choice is made by you (the person writing the code) and not left for default Python behaviors. Well-designed code is easier to use and easier to debug. \n",
    "\n",
    "Also note that we don't not need to repeat code for catching invalid inputs for `rule_number` here since the `lookup_table` funciton is called inside `spacetime_field`, so it will still catch invalid inputs once `lookup_table` is called."
   ]
  },
  {
   "cell_type": "code",
   "execution_count": 29,
   "metadata": {},
   "outputs": [],
   "source": [
    "def spacetime_field(rule_number, initial_condition, time_steps):\n",
    "    '''\n",
    "    Returns a spacetime field array using the given rule number on the \n",
    "    given initial condition for the given number of time steps.\n",
    "    \n",
    "    Parameters\n",
    "    ----------\n",
    "    rule_number: int\n",
    "        Integer value between 0 and 255, inclusive. Specifies the ECA lookup table\n",
    "        according to the Wolfram numbering scheme.\n",
    "    initial_condition: list\n",
    "        Binary string used as the initial condition for the ECA. Elements of the list\n",
    "        should be ints. \n",
    "    time_steps: int\n",
    "        Positive integer specifying the number of time steps for evolving the ECA. \n",
    "    '''\n",
    "    if time_steps < 0:\n",
    "        raise ValueError(\"time_steps must be a non-negative integer\")\n",
    "    # try converting time_steps to int and raise a custom error if this can't be done\n",
    "    try:\n",
    "        time_steps = int(time_steps)\n",
    "    except ValueError:\n",
    "        raise ValueError(\"time_steps must be a non-negative integer\")\n",
    "        \n",
    "    # we will see a cleaner and more efficient way to do the following when we introduce numpy\n",
    "    for i in initial_condition:\n",
    "        if i not in [0,1]:\n",
    "            raise ValueError(\"initial condition must be a list of 0s and 1s\")\n",
    "        \n",
    "    lookup = lookup_table(rule_number)\n",
    "    length = len(initial_condition)\n",
    "    \n",
    "    # initialize spacetime field and current configuration\n",
    "    spacetime_field = [initial_condition]\n",
    "    current_configuration = initial_condition.copy()\n",
    "\n",
    "    # apply the lookup table to evolve the CA for the given number of time steps\n",
    "    for t in range(time_steps):\n",
    "        new_configuration = []\n",
    "        for i in range(length):\n",
    "\n",
    "            neighborhood = (current_configuration[(i-1)], \n",
    "                            current_configuration[i], \n",
    "                            current_configuration[(i+1)%length])\n",
    "\n",
    "            new_configuration.append(lookup[neighborhood])\n",
    "\n",
    "        current_configuration = new_configuration\n",
    "        spacetime_field.append(new_configuration)\n",
    "    \n",
    "    return spacetime_field"
   ]
  },
  {
   "cell_type": "markdown",
   "metadata": {},
   "source": [
    "Let's just make sure it runs for some (appropriate) inputs"
   ]
  },
  {
   "cell_type": "code",
   "execution_count": 30,
   "metadata": {},
   "outputs": [
    {
     "name": "stdout",
     "output_type": "stream",
     "text": [
      "[1, 0, 1, 0, 0, 0, 0, 1, 1, 0, 0, 0, 0, 0, 0, 0, 0, 0, 0, 1]\n",
      "[0, 0, 0, 1, 0, 0, 1, 0, 0, 1, 0, 0, 0, 0, 0, 0, 0, 0, 1, 0]\n",
      "[0, 0, 1, 0, 1, 1, 0, 1, 1, 0, 1, 0, 0, 0, 0, 0, 0, 1, 0, 1]\n",
      "[1, 1, 0, 0, 0, 0, 0, 0, 0, 0, 0, 1, 0, 0, 0, 0, 1, 0, 0, 0]\n",
      "[0, 0, 1, 0, 0, 0, 0, 0, 0, 0, 1, 0, 1, 0, 0, 1, 0, 1, 0, 1]\n",
      "[1, 1, 0, 1, 0, 0, 0, 0, 0, 1, 0, 0, 0, 1, 1, 0, 0, 0, 0, 0]\n",
      "[0, 0, 0, 0, 1, 0, 0, 0, 1, 0, 1, 0, 1, 0, 0, 1, 0, 0, 0, 1]\n",
      "[1, 0, 0, 1, 0, 1, 0, 1, 0, 0, 0, 0, 0, 1, 1, 0, 1, 0, 1, 0]\n",
      "[0, 1, 1, 0, 0, 0, 0, 0, 1, 0, 0, 0, 1, 0, 0, 0, 0, 0, 0, 0]\n",
      "[1, 0, 0, 1, 0, 0, 0, 1, 0, 1, 0, 1, 0, 1, 0, 0, 0, 0, 0, 0]\n",
      "[0, 1, 1, 0, 1, 0, 1, 0, 0, 0, 0, 0, 0, 0, 1, 0, 0, 0, 0, 1]\n",
      "[0, 0, 0, 0, 0, 0, 0, 1, 0, 0, 0, 0, 0, 1, 0, 1, 0, 0, 1, 0]\n",
      "[0, 0, 0, 0, 0, 0, 1, 0, 1, 0, 0, 0, 1, 0, 0, 0, 1, 1, 0, 1]\n",
      "[1, 0, 0, 0, 0, 1, 0, 0, 0, 1, 0, 1, 0, 1, 0, 1, 0, 0, 0, 0]\n",
      "[0, 1, 0, 0, 1, 0, 1, 0, 1, 0, 0, 0, 0, 0, 0, 0, 1, 0, 0, 1]\n",
      "[0, 0, 1, 1, 0, 0, 0, 0, 0, 1, 0, 0, 0, 0, 0, 1, 0, 1, 1, 0]\n",
      "[0, 1, 0, 0, 1, 0, 0, 0, 1, 0, 1, 0, 0, 0, 1, 0, 0, 0, 0, 1]\n",
      "[0, 0, 1, 1, 0, 1, 0, 1, 0, 0, 0, 1, 0, 1, 0, 1, 0, 0, 1, 0]\n",
      "[0, 1, 0, 0, 0, 0, 0, 0, 1, 0, 1, 0, 0, 0, 0, 0, 1, 1, 0, 1]\n",
      "[0, 0, 1, 0, 0, 0, 0, 1, 0, 0, 0, 1, 0, 0, 0, 1, 0, 0, 0, 0]\n",
      "[0, 1, 0, 1, 0, 0, 1, 0, 1, 0, 1, 0, 1, 0, 1, 0, 1, 0, 0, 0]\n"
     ]
    }
   ],
   "source": [
    "for config in spacetime_field(18, random_string(20), 20):\n",
    "    print(config)"
   ]
  },
  {
   "cell_type": "markdown",
   "metadata": {},
   "source": [
    "Here is a simple function for making a spacetime diagram image of our spacetime fields. Testing visualizations is very difficult, so we will not worry about that here. \n",
    "\n",
    "For our specific code of simulating elementary cellular automata, visualizing spacetime diagrams provides a quick qualitative test for whether the simulator is working properly. Specifically, we can simulate a 'unit seed' initial condition with a single '1' in the center and all other values '0'. Spacetime diagrams of this initial condition for all 256 ECAs can be found [here](https://mathworld.wolfram.com/ElementaryCellularAutomaton.html) for visual comparison. "
   ]
  },
  {
   "cell_type": "code",
   "execution_count": 22,
   "metadata": {},
   "outputs": [],
   "source": [
    "def spacetime_diagram(spacetime_field, size=12, colors=plt.cm.Greys):\n",
    "    '''\n",
    "    Produces a simple spacetime diagram image using matplotlib imshow with 'nearest' interpolation.\n",
    "    \n",
    "   Parameters\n",
    "    ---------\n",
    "    spacetime_field: array-like (2D)\n",
    "        1+1 dimensional spacetime field, given as a 2D array or list of lists. Time should be dimension 0;\n",
    "        so that spacetime_field[t] is the spatial configuration at time t. \n",
    "        \n",
    "    size: int, optional (default=12)\n",
    "        Sets the size of the figure: figsize=(size,size)\n",
    "    colors: matplotlib colormap, optional (default=plt.cm.Greys)\n",
    "        See https://matplotlib.org/tutorials/colors/colormaps.html for colormap choices.\n",
    "        A colormap 'cmap' is called as: colors=plt.cm.cmap\n",
    "    '''\n",
    "    plt.figure(figsize=(size,size))\n",
    "    plt.imshow(spacetime_field, cmap=colors, interpolation='nearest')\n",
    "    plt.show()"
   ]
  },
  {
   "cell_type": "code",
   "execution_count": 16,
   "metadata": {},
   "outputs": [],
   "source": [
    "def unit_seed(margin_length):\n",
    "    '''\n",
    "    Returns a list of a single '1' bounded by margin_length number of '0's \n",
    "    on either side. \n",
    "    \n",
    "    Parameters\n",
    "    ----------\n",
    "    margin_length: int\n",
    "        Number of zeros bounding the central one on either side. \n",
    "        \n",
    "    Returns\n",
    "    -------\n",
    "    out: list\n",
    "        [0,]*margin_length + [1,] + [0,]*margin_length\n",
    "    '''\n",
    "    if not isinstance(margin_length, int) or margin_length < 0:\n",
    "        raise ValueError(\"margin_length must be a postive int\")\n",
    "    \n",
    "    return [0,]* margin_length + [1,] + [0,]*margin_length"
   ]
  },
  {
   "cell_type": "code",
   "execution_count": 33,
   "metadata": {},
   "outputs": [
    {
     "name": "stdout",
     "output_type": "stream",
     "text": [
      "[0, 0, 0, 0, 1, 0, 0, 0, 0]\n"
     ]
    }
   ],
   "source": [
    "print(unit_seed(4))"
   ]
  },
  {
   "cell_type": "code",
   "execution_count": 34,
   "metadata": {},
   "outputs": [
    {
     "data": {
      "image/png": "[encoded data removed]",
      "text/plain": [
       "<Figure size 720x720 with 1 Axes>"
      ]
     },
     "metadata": {
      "needs_background": "light"
     },
     "output_type": "display_data"
    }
   ],
   "source": [
    "field = spacetime_field(110, unit_seed(50), 50)\n",
    "spacetime_diagram(field, 10)"
   ]
  },
  {
   "cell_type": "markdown",
   "metadata": {
    "collapsed": true
   },
   "source": [
    "This what rule 110 should look like with a unit seed initial condition. "
   ]
  },
  {
   "cell_type": "markdown",
   "metadata": {
    "collapsed": true
   },
   "source": [
    "## Testing spacetime field code"
   ]
  },
  {
   "cell_type": "markdown",
   "metadata": {},
   "source": [
    "It is good to have a quick visual check that our simulator is doing something reasonable. But of course we want more thorough testing than that. Having test functions, like we made for the lookup_table code, will be particularly useful since we will be making multiple versions of the ECA simulator. Each time we make a new version we can just call our suite of test functions and quickly make sure everything is working properly. \n",
    "\n",
    "In the next tutorial we will discuss numpy and see how numpy arrays are ideal for use in our simulator. Here though will just borrow one function from numpy that will make testing spacetime fields much easier: `array_equal`"
   ]
  },
  {
   "cell_type": "code",
   "execution_count": 35,
   "metadata": {},
   "outputs": [],
   "source": [
    "from numpy import array_equal"
   ]
  },
  {
   "cell_type": "code",
   "execution_count": 36,
   "metadata": {},
   "outputs": [
    {
     "name": "stdout",
     "output_type": "stream",
     "text": [
      "True\n",
      "False\n"
     ]
    }
   ],
   "source": [
    "print(array_equal([0,1,0,1,1], [0,1,0,1,1]))\n",
    "print(array_equal([0,1,0,1,1], [0,1,0,1,2]))"
   ]
  },
  {
   "cell_type": "markdown",
   "metadata": {},
   "source": [
    "Here is our test strategy. Let's test the same four ECA rules that we tested for `lookup_table`: the two edge case rules 1 and 256, and two 'interior' rules 90 and 22. The edge cases are 'trivial' rules that always produce the same spatial configurations for any initial condition. So it is easy to test these for many time steps. The two interior rules have non-trivial behavior and are harder to test for many time steps. Therefore we will test these for just two time steps, where we will compute the proper output by hand (the local update rule for these are described above with the `lookup_table` test code). We will do this using unit seed initial conditions, but with the single '1' off-center. This will allow us to test that the periodic boundary conditions are working properly. We will check one side with rule 90 and the other with rule 22. "
   ]
  },
  {
   "cell_type": "code",
   "execution_count": 18,
   "metadata": {},
   "outputs": [],
   "source": [
    "def test_spacetime0():\n",
    "    obs_field = spacetime_field(0, random_string(20), 20)\n",
    "    expected_config = [0,]*20\n",
    "    \n",
    "    for time, observed_config in enumerate(obs_field[1:]): # skip the random initial condition\n",
    "        assert array_equal(observed_config, expected_config), \\\n",
    "        \"configuration at time {} not correct\".format(time)\n",
    "    print('All configurations correct!') # remove if using testing framework like nose"
   ]
  },
  {
   "cell_type": "code",
   "execution_count": 19,
   "metadata": {},
   "outputs": [
    {
     "ename": "NameError",
     "evalue": "name 'random_string' is not defined",
     "output_type": "error",
     "traceback": [
      "\u001b[1;31m---------------------------------------------------------------------------\u001b[0m",
      "\u001b[1;31mNameError\u001b[0m                                 Traceback (most recent call last)",
      "\u001b[1;32m<ipython-input-19-022b14d4b52c>\u001b[0m in \u001b[0;36m<module>\u001b[1;34m\u001b[0m\n\u001b[1;32m----> 1\u001b[1;33m \u001b[0mtest_spacetime0\u001b[0m\u001b[1;33m(\u001b[0m\u001b[1;33m)\u001b[0m\u001b[1;33m\u001b[0m\u001b[1;33m\u001b[0m\u001b[0m\n\u001b[0m",
      "\u001b[1;32m<ipython-input-18-5b3d8ca10ff8>\u001b[0m in \u001b[0;36mtest_spacetime0\u001b[1;34m()\u001b[0m\n\u001b[0;32m      1\u001b[0m \u001b[1;32mdef\u001b[0m \u001b[0mtest_spacetime0\u001b[0m\u001b[1;33m(\u001b[0m\u001b[1;33m)\u001b[0m\u001b[1;33m:\u001b[0m\u001b[1;33m\u001b[0m\u001b[1;33m\u001b[0m\u001b[0m\n\u001b[1;32m----> 2\u001b[1;33m     \u001b[0mobs_field\u001b[0m \u001b[1;33m=\u001b[0m \u001b[0mspacetime_field\u001b[0m\u001b[1;33m(\u001b[0m\u001b[1;36m0\u001b[0m\u001b[1;33m,\u001b[0m \u001b[0mrandom_string\u001b[0m\u001b[1;33m(\u001b[0m\u001b[1;36m20\u001b[0m\u001b[1;33m)\u001b[0m\u001b[1;33m,\u001b[0m \u001b[1;36m20\u001b[0m\u001b[1;33m)\u001b[0m\u001b[1;33m\u001b[0m\u001b[1;33m\u001b[0m\u001b[0m\n\u001b[0m\u001b[0;32m      3\u001b[0m     \u001b[0mexpected_config\u001b[0m \u001b[1;33m=\u001b[0m \u001b[1;33m[\u001b[0m\u001b[1;36m0\u001b[0m\u001b[1;33m,\u001b[0m\u001b[1;33m]\u001b[0m\u001b[1;33m*\u001b[0m\u001b[1;36m20\u001b[0m\u001b[1;33m\u001b[0m\u001b[1;33m\u001b[0m\u001b[0m\n\u001b[0;32m      4\u001b[0m \u001b[1;33m\u001b[0m\u001b[0m\n\u001b[0;32m      5\u001b[0m     \u001b[1;32mfor\u001b[0m \u001b[0mtime\u001b[0m\u001b[1;33m,\u001b[0m \u001b[0mobserved_config\u001b[0m \u001b[1;32min\u001b[0m \u001b[0menumerate\u001b[0m\u001b[1;33m(\u001b[0m\u001b[0mobs_field\u001b[0m\u001b[1;33m[\u001b[0m\u001b[1;36m1\u001b[0m\u001b[1;33m:\u001b[0m\u001b[1;33m]\u001b[0m\u001b[1;33m)\u001b[0m\u001b[1;33m:\u001b[0m \u001b[1;31m# skip the random initial condition\u001b[0m\u001b[1;33m\u001b[0m\u001b[1;33m\u001b[0m\u001b[0m\n",
      "\u001b[1;31mNameError\u001b[0m: name 'random_string' is not defined"
     ]
    }
   ],
   "source": [
    "test_spacetime0()"
   ]
  },
  {
   "cell_type": "code",
   "execution_count": 39,
   "metadata": {},
   "outputs": [],
   "source": [
    "def test_spacetime255():\n",
    "    obs_field = spacetime_field(255, random_string(20), 20)\n",
    "    expected_config = [1,]*20\n",
    "    \n",
    "    for time, observed_config in enumerate(obs_field[1:]): # skip the random initial condition\n",
    "        assert array_equal(observed_config, expected_config), \\\n",
    "        \"configuration at time {} not correct\".format(time)\n",
    "    print('All configurations correct!') # remove if using testing framework like nose"
   ]
  },
  {
   "cell_type": "code",
   "execution_count": 40,
   "metadata": {},
   "outputs": [
    {
     "name": "stdout",
     "output_type": "stream",
     "text": [
      "All configurations correct!\n"
     ]
    }
   ],
   "source": [
    "test_spacetime255()"
   ]
  },
  {
   "cell_type": "markdown",
   "metadata": {},
   "source": [
    "For our tests of rule 22 and 90, it's easier to first run the expected code and check it by hand. Once we have checked the output by hand, we can put the results into a test function"
   ]
  },
  {
   "cell_type": "code",
   "execution_count": 41,
   "metadata": {},
   "outputs": [
    {
     "name": "stdout",
     "output_type": "stream",
     "text": [
      "[0, 1, 0, 0, 0, 0]\n",
      "[1, 1, 1, 0, 0, 0]\n",
      "[0, 0, 0, 1, 0, 1]\n"
     ]
    }
   ],
   "source": [
    "initial = [0,1,0,0,0,0]\n",
    "field = spacetime_field(22, initial, 2)\n",
    "for config in field:\n",
    "    print(config)"
   ]
  },
  {
   "cell_type": "markdown",
   "metadata": {},
   "source": [
    "Recall that rule 22 updates a site to the value '1' if and only if there is a single '1' in it's neighborhood. So for a unit seed, the three values in the local neighborhood of the seed are updated to '1', as we see above. At the next time step, only the two configurations immediately outside that original neighborhood have a single '1' and are thus updated to '1'. This is what we see, accounting for the periodic boundary condition wrapping on the left."
   ]
  },
  {
   "cell_type": "code",
   "execution_count": 42,
   "metadata": {},
   "outputs": [],
   "source": [
    "def test_spacetime22():\n",
    "    initial = [0,1,0,0,0,0]\n",
    "    obs_field = spacetime_field(22, initial, 2)\n",
    "    expected_config_1 = [1, 1, 1, 0, 0, 0]\n",
    "    expected_config_2 = [0, 0, 0, 1, 0, 1]\n",
    "    assert array_equal(obs_field[1], expected_config_1), \\\n",
    "    \"time step 1 is incorrect\"\n",
    "    assert array_equal(obs_field[2], expected_config_2),\\\n",
    "    \"time step 2 is incorrect\"\n",
    "    print('both time steps give correct output') # remove if using testing framework like nose"
   ]
  },
  {
   "cell_type": "code",
   "execution_count": 43,
   "metadata": {},
   "outputs": [
    {
     "name": "stdout",
     "output_type": "stream",
     "text": [
      "both time steps give correct output\n"
     ]
    }
   ],
   "source": [
    "test_spacetime22()"
   ]
  },
  {
   "cell_type": "code",
   "execution_count": null,
   "metadata": {},
   "outputs": [],
   "source": []
  },
  {
   "cell_type": "code",
   "execution_count": 44,
   "metadata": {},
   "outputs": [
    {
     "name": "stdout",
     "output_type": "stream",
     "text": [
      "[0, 0, 0, 0, 0, 1, 0]\n",
      "[0, 0, 0, 0, 1, 0, 1]\n",
      "[1, 0, 0, 1, 0, 0, 0]\n"
     ]
    }
   ],
   "source": [
    "initial = [0,0,0,0,0,1,0]\n",
    "field = spacetime_field(90, initial, 2)\n",
    "for config in field:\n",
    "    print(config)"
   ]
  },
  {
   "cell_type": "markdown",
   "metadata": {},
   "source": [
    "Recall that rule 90 is the XOR of the outer two bits in the local neighborhood. For the first time steps, the outer two bits in the neighborhood of the unit seed should update to '1', as we see above. At the next time steps there are again two '1's, moving outward as seen above. "
   ]
  },
  {
   "cell_type": "code",
   "execution_count": 45,
   "metadata": {},
   "outputs": [],
   "source": [
    "def test_spacetime90():\n",
    "    initial = [0,0,0,0,0,1,0]\n",
    "    obs_field = spacetime_field(90, initial, 2)\n",
    "    expected_config_1 = [0, 0, 0, 0, 1, 0, 1]\n",
    "    expected_config_2 = [1, 0, 0, 1, 0, 0, 0]\n",
    "    assert array_equal(obs_field[1], expected_config_1), \\\n",
    "    \"time step 1 is incorrect\"\n",
    "    assert array_equal(obs_field[2], expected_config_2),\\\n",
    "    \"time step 2 is incorrect\"\n",
    "    print('both time steps give correct output') # remove if using testing framework like nose"
   ]
  },
  {
   "cell_type": "code",
   "execution_count": 46,
   "metadata": {},
   "outputs": [
    {
     "name": "stdout",
     "output_type": "stream",
     "text": [
      "both time steps give correct output\n"
     ]
    }
   ],
   "source": [
    "test_spacetime90()"
   ]
  },
  {
   "cell_type": "code",
   "execution_count": null,
   "metadata": {},
   "outputs": [],
   "source": []
  },
  {
   "cell_type": "markdown",
   "metadata": {},
   "source": [
    "# Classes"
   ]
  },
  {
   "cell_type": "markdown",
   "metadata": {},
   "source": [
    "We now introduces classes as a next level of abstraction. A full discussion of classes and object-oriented design is beyond the scope of these tutorials. I recommend checking out some textbooks or online resources for that. Here I want to give an introduction by example, with the specific context of our ECA simulator. Simulators are particularly well-suited for using classes. \n",
    "\n",
    "You may have heard that \"everything in Python is an object\"; it is therefore useful to know some of the basics of classes even if you don't plan to make your own classes for your project. \n",
    "\n",
    "In Python a `class` is like a template for create 'objects'. Objects are particular instances of a class. Here we will create a general ECA `class` that produces simulator objects when a particular rule number is specified. \n",
    "\n",
    "Objects are a collection of data (called 'attributes') and functions (called 'methods') that act on the data. "
   ]
  },
  {
   "cell_type": "code",
   "execution_count": null,
   "metadata": {},
   "outputs": [],
   "source": []
  },
  {
   "cell_type": "markdown",
   "metadata": {},
   "source": [
    "Below is a simple object-oriented ECA simulator. \n",
    "\n",
    "Objects of the ECA class have the lookup table, current configuration, and spacetime field as the main attributes. The initial condition is also stored as an attribute. An additional attribute, length, is stored from initialization and passed to the evolve method, when it is called. Because length is used \"internally\" in this way, it has an additional underscore in its name, to signal that is meant to be used this way and should not be otherwise modified by the user. \n",
    "\n",
    "Note the use of `self` throughout. This refers to instances of the class. Attributes that look like `self.attribute` are called instance variables, because they are specified for each instance of the class. They should be defined within methods, typically in `__init__`. For methods, self is always the first argument and it specifies that the methods act on particular instances. For example, if you have a class with a method, called `method_1()` and want to use that method inside of another method called `method_2()`, you would write it as `self.method_1()`. "
   ]
  },
  {
   "cell_type": "code",
   "execution_count": 13,
   "metadata": {},
   "outputs": [],
   "source": [
    "class ECA(object):\n",
    "    '''\n",
    "    Elementary cellular automata simulator.\n",
    "    '''\n",
    "    def __init__(self, rule_number, initial_condition):\n",
    "        '''\n",
    "        Initializes the simulator for the given rule number and initial condition.\n",
    "        \n",
    "        Parameters\n",
    "        ----------\n",
    "        rule_number: int\n",
    "            Integer value between 0 and 255, inclusive. Specifies the ECA lookup table\n",
    "            according to the Wolfram numbering scheme.\n",
    "        initial_condition: list\n",
    "            Binary string used as the initial condition for the ECA. Elements of the list\n",
    "            should be ints. \n",
    "        \n",
    "        Attributes\n",
    "        ----------\n",
    "        lookup_table: dict\n",
    "            Lookup table for the ECA given as a dictionary, with neighborhood tuple keys. \n",
    "        initial: array_like\n",
    "            Copy of the initial conditions used to instantiate the simulator\n",
    "        spacetime: array_like\n",
    "            2D array (list of lists) of the spacetime field created by the simulator.\n",
    "        current_configuration: array_like\n",
    "            List of the spatial configuration of the ECA at the current time\n",
    "        '''\n",
    "        # we will see a cleaner and more efficient way to do the following when we introduce numpy\n",
    "        for i in initial_condition:\n",
    "            if i not in [0,1]:\n",
    "                raise ValueError(\"initial condition must be a list of 0s and 1s\")\n",
    "        \n",
    "        #Public attributes\n",
    "        self.lookup_table = lookup_table(rule_number)\n",
    "        self.initial = initial_condition\n",
    "        self.spacetime = [initial_condition]\n",
    "        self.current_configuration = initial_condition.copy()\n",
    "        \n",
    "       # private attributes\n",
    "        self._length = len(initial_condition) \n",
    "        \n",
    "    def evolve(self, time_steps):\n",
    "        '''\n",
    "        Evolves the current configuration of the ECA for the given number of time steps.\n",
    "        \n",
    "        Parameters\n",
    "        ----------\n",
    "        time_steps: int\n",
    "            Positive integer specifying the number of time steps for evolving the ECA.  \n",
    "        '''\n",
    "        if time_steps < 0:\n",
    "            raise ValueError(\"time_steps must be a non-negative integer\")\n",
    "        # try converting time_steps to int and raise a custom error if this can't be done\n",
    "        try:\n",
    "            time_steps = int(time_steps)\n",
    "        except ValueError:\n",
    "            raise ValueError(\"time_steps must be a non-negative integer\")\n",
    "\n",
    "        for _ in range(time_steps): # use underscore if the index will not be used\n",
    "            new_configuration = []\n",
    "            for i in range(self._length):\n",
    "\n",
    "                neighborhood = (self.current_configuration[(i-1)], \n",
    "                                self.current_configuration[i], \n",
    "                                self.current_configuration[(i+1)%self._length])\n",
    "\n",
    "                new_configuration.append(self.lookup_table[neighborhood])\n",
    "\n",
    "            self.current_configuration = new_configuration\n",
    "            self.spacetime.append(new_configuration)"
   ]
  },
  {
   "cell_type": "markdown",
   "metadata": {},
   "source": [
    "Before we close this tutorial with some thoughts on how to best use classes and functions in scientific code design, let's modify our tests of the spacetime field function to test this simulator class. "
   ]
  },
  {
   "cell_type": "code",
   "execution_count": 23,
   "metadata": {},
   "outputs": [
    {
     "data": {
      "image/png": "[encoded data removed]",
      "text/plain": [
       "<Figure size 720x720 with 1 Axes>"
      ]
     },
     "metadata": {
      "needs_background": "light"
     },
     "output_type": "display_data"
    }
   ],
   "source": [
    "rule_110 = ECA(110, unit_seed(50))\n",
    "rule_110.evolve(50)\n",
    "spacetime_diagram(rule_110.spacetime, 10)"
   ]
  },
  {
   "cell_type": "code",
   "execution_count": 49,
   "metadata": {},
   "outputs": [],
   "source": [
    "def test_simulator0():\n",
    "    ca = ECA(0, random_string(20))\n",
    "    ca.evolve(20)\n",
    "    obs_field = ca.spacetime\n",
    "    expected_config = [0,]*20\n",
    "    \n",
    "    for time, observed_config in enumerate(obs_field[1:]): # skip the random initial condition\n",
    "        assert array_equal(observed_config, expected_config), \\\n",
    "        \"configuration at time {} not correct\".format(time)\n",
    "    print('All configurations correct!') # remove if using testing framework like nose"
   ]
  },
  {
   "cell_type": "code",
   "execution_count": 50,
   "metadata": {},
   "outputs": [
    {
     "name": "stdout",
     "output_type": "stream",
     "text": [
      "All configurations correct!\n"
     ]
    }
   ],
   "source": [
    "test_simulator0()"
   ]
  },
  {
   "cell_type": "code",
   "execution_count": 51,
   "metadata": {},
   "outputs": [],
   "source": [
    "def test_simulator255():\n",
    "    ca = ECA(255, random_string(20))\n",
    "    ca.evolve(20)\n",
    "    obs_field = ca.spacetime\n",
    "    expected_config = [1,]*20\n",
    "    \n",
    "    for time, observed_config in enumerate(obs_field[1:]): # skip the random initial condition\n",
    "        assert array_equal(observed_config, expected_config), \\\n",
    "        \"configuration at time {} not correct\".format(time)\n",
    "    print('All configurations correct!') # remove if using testing framework like nose"
   ]
  },
  {
   "cell_type": "code",
   "execution_count": 52,
   "metadata": {},
   "outputs": [
    {
     "name": "stdout",
     "output_type": "stream",
     "text": [
      "All configurations correct!\n"
     ]
    }
   ],
   "source": [
    "test_simulator255()"
   ]
  },
  {
   "cell_type": "code",
   "execution_count": 53,
   "metadata": {},
   "outputs": [],
   "source": [
    "def test_simulator22():\n",
    "    initial = [0,1,0,0,0,0]\n",
    "    ca = ECA(22, initial)\n",
    "    ca.evolve(2)\n",
    "    obs_field = ca.spacetime\n",
    "    expected_config_1 = [1, 1, 1, 0, 0, 0]\n",
    "    expected_config_2 = [0, 0, 0, 1, 0, 1]\n",
    "    assert array_equal(obs_field[1], expected_config_1), \\\n",
    "    \"time step 1 is incorrect\"\n",
    "    assert array_equal(obs_field[2], expected_config_2),\\\n",
    "    \"time step 2 is incorrect\"\n",
    "    print('both time steps give correct output') # remove if using testing framework like nose"
   ]
  },
  {
   "cell_type": "code",
   "execution_count": 54,
   "metadata": {},
   "outputs": [
    {
     "name": "stdout",
     "output_type": "stream",
     "text": [
      "both time steps give correct output\n"
     ]
    }
   ],
   "source": [
    "test_simulator22()"
   ]
  },
  {
   "cell_type": "code",
   "execution_count": 55,
   "metadata": {},
   "outputs": [],
   "source": [
    "def test_simulator90():\n",
    "    initial = [0,0,0,0,0,1,0]\n",
    "    ca = ECA(90, initial)\n",
    "    ca.evolve(2)\n",
    "    obs_field = ca.spacetime\n",
    "    expected_config_1 = [0, 0, 0, 0, 1, 0, 1]\n",
    "    expected_config_2 = [1, 0, 0, 1, 0, 0, 0]\n",
    "    assert array_equal(obs_field[1], expected_config_1), \\\n",
    "    \"time step 1 is incorrect\"\n",
    "    assert array_equal(obs_field[2], expected_config_2),\\\n",
    "    \"time step 2 is incorrect\"\n",
    "    print('both time steps give correct output') # remove if using testing framework like nose"
   ]
  },
  {
   "cell_type": "code",
   "execution_count": 56,
   "metadata": {},
   "outputs": [
    {
     "name": "stdout",
     "output_type": "stream",
     "text": [
      "both time steps give correct output\n"
     ]
    }
   ],
   "source": [
    "test_simulator90()"
   ]
  },
  {
   "cell_type": "code",
   "execution_count": null,
   "metadata": {},
   "outputs": [],
   "source": []
  },
  {
   "cell_type": "markdown",
   "metadata": {},
   "source": [
    "The main product we want from an ECA simulator is to produce spacetime fields, and our `spacetime_field` function and `ECA` class both do this. Is there a reason then to prefer one over the other? A general rule of thumb is that if you have a class with only one method that is not `__init__`, that code should be done using a function instead. Using classes when you don't need to makes code overly complicated and goes against the zen of Python (see the end of the first tutorial). According to that rule, there is no need to use the `ECA` class we just made if we are just interested in producing spacetime fields. Notice in our tests that it takes more lines of code using the class than the function, and the ECA object is only used to run the evolve method then not used again. \n",
    "\n",
    "There may be other features you want from a CA simulator however, like restarting from a different initial condition, rewinding, or evolving the spatial configuration without saving the full history of evolution as a spacetime field. A class would be appropriate to use to put all these features together. There are plenty of other situations where using classes is the best way to go, and the basics shown here can get you started. For example, in a data analytics pipleine you may have some data that you do subsequent manipulations on. If you find yourself passing outputs of one function as arguments into another function, then you should probably use a class instead. "
   ]
  },
  {
   "cell_type": "code",
   "execution_count": null,
   "metadata": {},
   "outputs": [],
   "source": []
  },
  {
   "cell_type": "markdown",
   "metadata": {},
   "source": [
    "\"Object-oriented design\" is a bit of a buzz word, and it can be tempting to overuse classes. Below is a particularly \"bad\" example of using classes for an ECA simulator, based off an example in this video https://youtu.be/o9pEzgHorH0?t=1043\n",
    "\n",
    "This uses the intuition of a cell (site), a lattice of cells, and a spacetime field of lattices as being objects, and thus represented as classes. "
   ]
  },
  {
   "cell_type": "code",
   "execution_count": 57,
   "metadata": {},
   "outputs": [],
   "source": [
    "class Site(object):\n",
    "    \n",
    "    def __init__(self, position, value): \n",
    "        self.position = position\n",
    "        self.value = value\n",
    "        \n",
    "    def neighbors(self, length):\n",
    "        yield self.position-1\n",
    "        yield self.position\n",
    "        yield (self.position+1)%length"
   ]
  },
  {
   "cell_type": "code",
   "execution_count": 58,
   "metadata": {},
   "outputs": [],
   "source": [
    "class Lattice(object):\n",
    "    \n",
    "    def __init__(self, length):\n",
    "        self.length = length\n",
    "        self.lattice = []\n",
    "        for i in range(length):\n",
    "            site_value = random.randint(0,1)\n",
    "            self.lattice.append(Site(i, site_value))\n",
    "            \n",
    "    \n",
    "    def __len__(self):\n",
    "        return self.length\n",
    "    \n",
    "    def __getitem__(self, index):\n",
    "        if index >= len(self):\n",
    "            raise IndexError\n",
    "        return self.lattice[index]\n",
    "    \n",
    "    def update(self, rule_number):\n",
    "        self.lookup_table = lookup_table(rule_number)\n",
    "        updated_lattice = self.lattice[:]\n",
    "        for site in self:\n",
    "            neighborhood = ()\n",
    "            for neighbor_index in site.neighbors(self.length):\n",
    "                neighborhood += (self.lattice[neighbor_index].value, )\n",
    "            updated_lattice[site.position] = Site(site.position, \n",
    "                                                  int(self.lookup_table[neighborhood]))\n",
    "        \n",
    "        self.lattice = updated_lattice"
   ]
  },
  {
   "cell_type": "markdown",
   "metadata": {},
   "source": [
    "Some notes:\n",
    "\n",
    "The above is something I threw together pretty quickly and is just meant to demonstrate some things about classes. It is not good code; the ''update'' method of Lattice is not written very efficiently and the ''neighbors'' method of Site should not need the length parameter (a try-except statement when neighbors is called could be used to catch the inex error, as a way to get rid of that parameter).\n",
    "\n",
    "In the lattice class, having the \\__len\\__ and \\__getitem\\__ methods makes lattices iterable, so that something like ''for site in self:'' can be used. \n",
    "\n",
    "I don't feel like writing it up, but the natural extension of this would be to then add a SpacetimeField class. It could be made iterable where it iterates through its Lattice objects, the way Lattice objects iterate through Site objects. If you do this it would make sense to have the ''update'' method with the SpacetimeField class and not the Lattice class. But then why have a Lattice class at all? Very quickly you see making these three classes is not the right way to go. In fact, using an array or list of lists for spacetime fields, as we have done up to this point, allows for iteration in exactly the same way that we designed the above classes to be. \n",
    "\n",
    "That is, if we have a spacetime field array / list of lists, we can iterate through all points in the field with the following for loops:\n",
    "       "
   ]
  },
  {
   "cell_type": "code",
   "execution_count": 59,
   "metadata": {},
   "outputs": [
    {
     "name": "stdout",
     "output_type": "stream",
     "text": [
      "[[1, 0, 1, 0, 1], [0, 0, 0, 0, 0], [0, 0, 0, 0, 0], [0, 0, 0, 0, 0]] \n",
      "\n",
      "[1, 0, 1, 0, 1]\n",
      "[0, 0, 0, 0, 0]\n",
      "[0, 0, 0, 0, 0]\n",
      "[0, 0, 0, 0, 0]\n",
      "\n",
      "\n",
      "1\n",
      "0\n",
      "1\n",
      "0\n",
      "1\n",
      "0\n",
      "0\n",
      "0\n",
      "0\n",
      "0\n",
      "0\n",
      "0\n",
      "0\n",
      "0\n",
      "0\n",
      "0\n",
      "0\n",
      "0\n",
      "0\n",
      "0\n"
     ]
    }
   ],
   "source": [
    "field = spacetime_field(18, random_string(5), time_steps=3)\n",
    "\n",
    "print(field, '\\n')\n",
    "\n",
    "for lattice in field:\n",
    "    print(lattice)\n",
    "print('\\n')\n",
    "\n",
    "for lattice in field:\n",
    "    for site in lattice:\n",
    "        print(site)"
   ]
  },
  {
   "cell_type": "code",
   "execution_count": null,
   "metadata": {},
   "outputs": [],
   "source": []
  }
 ],
 "metadata": {
  "kernelspec": {
   "display_name": "Python 3",
   "language": "python",
   "name": "python3"
  },
  "language_info": {
   "codemirror_mode": {
    "name": "ipython",
    "version": 3
   },
   "file_extension": ".py",
   "mimetype": "text/x-python",
   "name": "python",
   "nbconvert_exporter": "python",
   "pygments_lexer": "ipython3",
   "version": "3.7.10"
  }
 },
 "nbformat": 4,
 "nbformat_minor": 1
}
