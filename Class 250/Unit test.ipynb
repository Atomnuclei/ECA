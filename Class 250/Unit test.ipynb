{
 "cells": [
  {
   "cell_type": "code",
   "execution_count": 19,
   "id": "c81a4c02",
   "metadata": {},
   "outputs": [],
   "source": [
    "\n",
    "\n",
    "def test_fizz_buzz_return_list():\n",
    "    assert isinstance(fizz_buzz(1),list)\n",
    "def test_fizz_buzz_output_length():\n",
    "    assert len(fizz_buzz(3))==3\n",
    "def fizz_buzz(n):\n",
    "    return[n]*3\n",
    "\n",
    "test_fizz_buzz_return_list()\n",
    "test_fizz_buzz_output_length()"
   ]
  },
  {
   "cell_type": "markdown",
   "id": "e522d287",
   "metadata": {},
   "source": [
    "chapter 18 there is more on tests\n",
    "practice on https://cyber-dojo.org\n",
    "\n"
   ]
  }
 ],
 "metadata": {
  "kernelspec": {
   "display_name": "Python 3",
   "language": "python",
   "name": "python3"
  },
  "language_info": {
   "codemirror_mode": {
    "name": "ipython",
    "version": 3
   },
   "file_extension": ".py",
   "mimetype": "text/x-python",
   "name": "python",
   "nbconvert_exporter": "python",
   "pygments_lexer": "ipython3",
   "version": "3.7.10"
  }
 },
 "nbformat": 4,
 "nbformat_minor": 5
}
