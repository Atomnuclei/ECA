{
 "cells": [
  {
   "cell_type": "markdown",
   "id": "f9f3237e",
   "metadata": {},
   "source": [
    "Version control like a log book and see what were the enviroments at that time.\n",
    "\n",
    "how do we go back to the last working state? \n",
    "it preserves the state\n",
    "here is the state and commit \n",
    "and we can documment and say what was in that commit\n",
    "\n",
    "it gives you the final version and you dont have to save the individual files\n",
    "\n",
    "also you can collaborate \n",
    "\n",
    "hard to overwrite, \n",
    "\n",
    "\n",
    "you can define some global properties\n",
    " git"
   ]
  }
 ],
 "metadata": {
  "kernelspec": {
   "display_name": "Python 3",
   "language": "python",
   "name": "python3"
  },
  "language_info": {
   "codemirror_mode": {
    "name": "ipython",
    "version": 3
   },
   "file_extension": ".py",
   "mimetype": "text/x-python",
   "name": "python",
   "nbconvert_exporter": "python",
   "pygments_lexer": "ipython3",
   "version": "3.7.10"
  }
 },
 "nbformat": 4,
 "nbformat_minor": 5
}
