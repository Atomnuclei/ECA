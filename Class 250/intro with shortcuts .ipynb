{
 "cells": [
  {
   "cell_type": "code",
   "execution_count": null,
   "id": "83276b4c",
   "metadata": {},
   "outputs": [],
   "source": []
  },
  {
   "cell_type": "code",
   "execution_count": null,
   "id": "a59402db",
   "metadata": {},
   "outputs": [],
   "source": []
  },
  {
   "cell_type": "markdown",
   "id": "e2ae44ae",
   "metadata": {},
   "source": [
    "# hello world\n",
    "\n",
    "* presentation\n",
    "- tab\n",
    "    * hello\n",
    "        * use for explanations"
   ]
  },
  {
   "cell_type": "markdown",
   "id": "dcfc72ac",
   "metadata": {},
   "source": [
    "contrl c twice to kill the kernel\n",
    "\n"
   ]
  }
 ],
 "metadata": {
  "kernelspec": {
   "display_name": "Python 3",
   "language": "python",
   "name": "python3"
  },
  "language_info": {
   "codemirror_mode": {
    "name": "ipython",
    "version": 3
   },
   "file_extension": ".py",
   "mimetype": "text/x-python",
   "name": "python",
   "nbconvert_exporter": "python",
   "pygments_lexer": "ipython3",
   "version": "3.7.10"
  }
 },
 "nbformat": 4,
 "nbformat_minor": 5
}
