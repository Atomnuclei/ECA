{
 "cells": [
  {
   "cell_type": "markdown",
   "id": "092ad276",
   "metadata": {},
   "source": [
    "remote repository you can store your stuff here so it doesn't dissapear\n",
    "\n",
    "you cant get public ones for free\n",
    "\n",
    "access through internet connection \n",
    "\n",
    "it is invaluable for science you can easly share code\n",
    "\n"
   ]
  }
 ],
 "metadata": {
  "kernelspec": {
   "display_name": "Python 3",
   "language": "python",
   "name": "python3"
  },
  "language_info": {
   "codemirror_mode": {
    "name": "ipython",
    "version": 3
   },
   "file_extension": ".py",
   "mimetype": "text/x-python",
   "name": "python",
   "nbconvert_exporter": "python",
   "pygments_lexer": "ipython3",
   "version": "3.7.10"
  }
 },
 "nbformat": 4,
 "nbformat_minor": 5
}
