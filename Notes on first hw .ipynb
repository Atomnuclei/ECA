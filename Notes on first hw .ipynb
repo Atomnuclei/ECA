{
 "cells": [
  {
   "cell_type": "markdown",
   "id": "062d2afa",
   "metadata": {},
   "source": [
    "notes on hw\n",
    "\n",
    "not that many conditions\n",
    "\n",
    "don't over write tests, have some in between\n",
    "\n",
    "why would we teest imputs \n",
    "\n",
    "sequence of steps, store the thing and then keep going \n",
    "\n",
    "don't spend more time than it would take to catch the error by running it \n",
    "\n",
    "write a clear doc screen; the comment that goes into the function \n",
    "\n",
    "self inside the class;\n",
    "    \n",
    "    static method dont need self\n",
    "    \n",
    "    if self is never called\n",
    "    depends on the function inside the class \n",
    "    the down side you can't call the function \n",
    "    \n",
    "   you will need to define it and then you can call it \n",
    "   \n",
    "   \n",
    "   self.rule_num=redable name\n",
    "   self._rule_in_ternary=private number just for you \n",
    "   \n",
    "   self.value is store inside the class instance as an attribute\n",
    "   \n",
    "   \n",
    "   \n",
    "   from class_file import *\n",
    "   \n",
    "   \\* doesnt pull the private functions\n",
    "   \n",
    "   import class_file \n",
    "   \n",
    "   it will get you the private functions and you can use it if you know about it\n",
    "   \n",
    "list comperhension, zip, enumerate\n",
    "\n",
    "create a list\n",
    "\n",
    "list=[x**2 for x in range(5)]\n",
    "tuple=(x:x**2 for x in range(5)}\n",
    "\n",
    ".items() makes tuples assignes key to key, value to value in a for loop basically\n",
    "\n",
    "zip looping over and index \n",
    "\n",
    "return list.append(a) -> doesn't returns anything\n",
    "return none\n",
    "\n",
    "\n",
    "functions automatically return none if no values is assigned for return \n",
    "\n"
   ]
  }
 ],
 "metadata": {
  "kernelspec": {
   "display_name": "Python 3",
   "language": "python",
   "name": "python3"
  },
  "language_info": {
   "codemirror_mode": {
    "name": "ipython",
    "version": 3
   },
   "file_extension": ".py",
   "mimetype": "text/x-python",
   "name": "python",
   "nbconvert_exporter": "python",
   "pygments_lexer": "ipython3",
   "version": "3.7.10"
  }
 },
 "nbformat": 4,
 "nbformat_minor": 5
}
